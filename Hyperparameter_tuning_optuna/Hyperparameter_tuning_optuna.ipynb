{
  "nbformat": 4,
  "nbformat_minor": 0,
  "metadata": {
    "colab": {
      "provenance": [],
      "gpuType": "T4"
    },
    "kernelspec": {
      "name": "python3",
      "display_name": "Python 3"
    },
    "language_info": {
      "name": "python"
    },
    "accelerator": "GPU"
  },
  "cells": [
    {
      "cell_type": "markdown",
      "source": [
        "#installing required package"
      ],
      "metadata": {
        "id": "wFofg_1cWfak"
      }
    },
    {
      "cell_type": "code",
      "execution_count": 1,
      "metadata": {
        "colab": {
          "base_uri": "https://localhost:8080/"
        },
        "collapsed": true,
        "id": "DaMVrTWiVIne",
        "outputId": "65e3ce11-f329-4afd-df99-6d7f82d24b0d"
      },
      "outputs": [
        {
          "output_type": "stream",
          "name": "stdout",
          "text": [
            "Collecting optuna\n",
            "  Downloading optuna-3.6.1-py3-none-any.whl.metadata (17 kB)\n",
            "Collecting alembic>=1.5.0 (from optuna)\n",
            "  Downloading alembic-1.13.2-py3-none-any.whl.metadata (7.4 kB)\n",
            "Collecting colorlog (from optuna)\n",
            "  Downloading colorlog-6.8.2-py3-none-any.whl.metadata (10 kB)\n",
            "Requirement already satisfied: numpy in /usr/local/lib/python3.10/dist-packages (from optuna) (1.26.4)\n",
            "Requirement already satisfied: packaging>=20.0 in /usr/local/lib/python3.10/dist-packages (from optuna) (24.1)\n",
            "Requirement already satisfied: sqlalchemy>=1.3.0 in /usr/local/lib/python3.10/dist-packages (from optuna) (2.0.31)\n",
            "Requirement already satisfied: tqdm in /usr/local/lib/python3.10/dist-packages (from optuna) (4.66.4)\n",
            "Requirement already satisfied: PyYAML in /usr/local/lib/python3.10/dist-packages (from optuna) (6.0.1)\n",
            "Collecting Mako (from alembic>=1.5.0->optuna)\n",
            "  Downloading Mako-1.3.5-py3-none-any.whl.metadata (2.9 kB)\n",
            "Requirement already satisfied: typing-extensions>=4 in /usr/local/lib/python3.10/dist-packages (from alembic>=1.5.0->optuna) (4.12.2)\n",
            "Requirement already satisfied: greenlet!=0.4.17 in /usr/local/lib/python3.10/dist-packages (from sqlalchemy>=1.3.0->optuna) (3.0.3)\n",
            "Requirement already satisfied: MarkupSafe>=0.9.2 in /usr/local/lib/python3.10/dist-packages (from Mako->alembic>=1.5.0->optuna) (2.1.5)\n",
            "Downloading optuna-3.6.1-py3-none-any.whl (380 kB)\n",
            "\u001b[2K   \u001b[90m━━━━━━━━━━━━━━━━━━━━━━━━━━━━━━━━━━━━━━━━\u001b[0m \u001b[32m380.1/380.1 kB\u001b[0m \u001b[31m26.3 MB/s\u001b[0m eta \u001b[36m0:00:00\u001b[0m\n",
            "\u001b[?25hDownloading alembic-1.13.2-py3-none-any.whl (232 kB)\n",
            "\u001b[2K   \u001b[90m━━━━━━━━━━━━━━━━━━━━━━━━━━━━━━━━━━━━━━━━\u001b[0m \u001b[32m233.0/233.0 kB\u001b[0m \u001b[31m22.0 MB/s\u001b[0m eta \u001b[36m0:00:00\u001b[0m\n",
            "\u001b[?25hDownloading colorlog-6.8.2-py3-none-any.whl (11 kB)\n",
            "Downloading Mako-1.3.5-py3-none-any.whl (78 kB)\n",
            "\u001b[2K   \u001b[90m━━━━━━━━━━━━━━━━━━━━━━━━━━━━━━━━━━━━━━━━\u001b[0m \u001b[32m78.6/78.6 kB\u001b[0m \u001b[31m7.9 MB/s\u001b[0m eta \u001b[36m0:00:00\u001b[0m\n",
            "\u001b[?25hInstalling collected packages: Mako, colorlog, alembic, optuna\n",
            "Successfully installed Mako-1.3.5 alembic-1.13.2 colorlog-6.8.2 optuna-3.6.1\n"
          ]
        }
      ],
      "source": [
        "!pip install optuna"
      ]
    },
    {
      "cell_type": "markdown",
      "source": [
        "#importing essential packasges"
      ],
      "metadata": {
        "id": "bzKHy9wVWir7"
      }
    },
    {
      "cell_type": "code",
      "source": [
        "import optuna\n",
        "from tensorflow.keras.datasets import mnist\n",
        "from tensorflow.keras.models import Sequential\n",
        "from tensorflow.keras.layers import Dense, Flatten\n",
        "from tensorflow.keras.optimizers import Adam, RMSprop\n",
        "from tensorflow.keras.utils import to_categorical"
      ],
      "metadata": {
        "id": "Ri5nhro2V3Zg"
      },
      "execution_count": 2,
      "outputs": []
    },
    {
      "cell_type": "markdown",
      "source": [
        "#loading mnist dataset and Normalizing it"
      ],
      "metadata": {
        "id": "z7Ku4hdZWmA1"
      }
    },
    {
      "cell_type": "code",
      "source": [
        "# Load data\n",
        "(x_train, y_train), (x_test, y_test) = mnist.load_data()\n",
        "x_train = x_train.astype('float32') / 255\n",
        "x_test = x_test.astype('float32') / 255\n",
        "y_train = to_categorical(y_train, 10)\n",
        "y_test = to_categorical(y_test, 10)"
      ],
      "metadata": {
        "colab": {
          "base_uri": "https://localhost:8080/"
        },
        "id": "D3BJxsrzV5eJ",
        "outputId": "f5ef6094-ca1e-464b-a54f-7d4a090faf5d"
      },
      "execution_count": 3,
      "outputs": [
        {
          "output_type": "stream",
          "name": "stdout",
          "text": [
            "Downloading data from https://storage.googleapis.com/tensorflow/tf-keras-datasets/mnist.npz\n",
            "\u001b[1m11490434/11490434\u001b[0m \u001b[32m━━━━━━━━━━━━━━━━━━━━\u001b[0m\u001b[37m\u001b[0m \u001b[1m2s\u001b[0m 0us/step\n"
          ]
        }
      ]
    },
    {
      "cell_type": "markdown",
      "source": [
        "# creating Model architecture and hyper parameters search space"
      ],
      "metadata": {
        "id": "SbCvb8slWsb1"
      }
    },
    {
      "cell_type": "code",
      "source": [
        "def create_model(trial):\n",
        "    # Suggest hyperparameters\n",
        "    n_layers = trial.suggest_int('n_layers', 1, 3)\n",
        "    activation = trial.suggest_categorical('activation', ['relu', 'tanh', 'sigmoid'])\n",
        "    optimizer_name = trial.suggest_categorical('optimizer', ['adam', 'rmsprop'])\n",
        "    learning_rate = trial.suggest_loguniform('learning_rate', 1e-5, 1e-1)\n",
        "\n",
        "    # Build the model\n",
        "    model = Sequential()\n",
        "    model.add(Flatten(input_shape=(28, 28)))\n",
        "    for i in range(n_layers):\n",
        "        num_hidden = trial.suggest_int('n_units_l{}'.format(i), 32, 128)\n",
        "        model.add(Dense(num_hidden, activation=activation))\n",
        "    model.add(Dense(10, activation='softmax'))\n",
        "\n",
        "    # Compile the model\n",
        "    if optimizer_name == 'adam':\n",
        "        optimizer = Adam(learning_rate=learning_rate)\n",
        "    else:\n",
        "        optimizer = RMSprop(learning_rate=learning_rate)\n",
        "\n",
        "    model.compile(optimizer=optimizer, loss='categorical_crossentropy', metrics=['accuracy'])\n",
        "\n",
        "    return model"
      ],
      "metadata": {
        "id": "c47pdiUIV7Jm"
      },
      "execution_count": 5,
      "outputs": []
    },
    {
      "cell_type": "markdown",
      "source": [
        "# train the model on data"
      ],
      "metadata": {
        "id": "DKyKkav-XB8W"
      }
    },
    {
      "cell_type": "code",
      "source": [
        "def objective(trial):\n",
        "    model = create_model(trial)\n",
        "    model.fit(x_train, y_train, epochs=10, batch_size=128, verbose=0, validation_data=(x_test, y_test))\n",
        "    score = model.evaluate(x_test, y_test, verbose=0)\n",
        "    return score[1]  # We aim to maximize accuracy"
      ],
      "metadata": {
        "id": "kKTIMmg2VUBB"
      },
      "execution_count": 7,
      "outputs": []
    },
    {
      "cell_type": "markdown",
      "source": [
        "#testing the model on trails"
      ],
      "metadata": {
        "id": "GujsHjT7XHJC"
      }
    },
    {
      "cell_type": "code",
      "source": [
        "study = optuna.create_study(direction='maximize')\n",
        "study.optimize(objective, n_trials=10) # because of gpu computing i set n_trials = 10 , you can do it like 100"
      ],
      "metadata": {
        "colab": {
          "base_uri": "https://localhost:8080/"
        },
        "id": "oWNt30zzVd4x",
        "outputId": "3bd44856-a9ab-4d25-ed00-64bc2a4ba494"
      },
      "execution_count": 8,
      "outputs": [
        {
          "output_type": "stream",
          "name": "stderr",
          "text": [
            "[I 2024-07-31 19:51:47,161] A new study created in memory with name: no-name-b78f2fbc-3eb0-4341-b20e-21e21647af31\n",
            "<ipython-input-5-0aa35023674a>:6: FutureWarning: suggest_loguniform has been deprecated in v3.0.0. This feature will be removed in v6.0.0. See https://github.com/optuna/optuna/releases/tag/v3.0.0. Use suggest_float(..., log=True) instead.\n",
            "  learning_rate = trial.suggest_loguniform('learning_rate', 1e-5, 1e-1)\n",
            "/usr/local/lib/python3.10/dist-packages/keras/src/layers/reshaping/flatten.py:37: UserWarning: Do not pass an `input_shape`/`input_dim` argument to a layer. When using Sequential models, prefer using an `Input(shape)` object as the first layer in the model instead.\n",
            "  super().__init__(**kwargs)\n",
            "[I 2024-07-31 19:52:05,785] Trial 0 finished with value: 0.9218000173568726 and parameters: {'n_layers': 2, 'activation': 'relu', 'optimizer': 'adam', 'learning_rate': 3.0123815745827146e-05, 'n_units_l0': 69, 'n_units_l1': 73}. Best is trial 0 with value: 0.9218000173568726.\n",
            "[I 2024-07-31 19:52:25,649] Trial 1 finished with value: 0.9437000155448914 and parameters: {'n_layers': 3, 'activation': 'tanh', 'optimizer': 'adam', 'learning_rate': 5.650801254951511e-05, 'n_units_l0': 117, 'n_units_l1': 93, 'n_units_l2': 70}. Best is trial 1 with value: 0.9437000155448914.\n",
            "[I 2024-07-31 19:52:44,338] Trial 2 finished with value: 0.9710999727249146 and parameters: {'n_layers': 1, 'activation': 'relu', 'optimizer': 'rmsprop', 'learning_rate': 0.0021107063179950872, 'n_units_l0': 35}. Best is trial 2 with value: 0.9710999727249146.\n",
            "[I 2024-07-31 19:53:01,715] Trial 3 finished with value: 0.9031999707221985 and parameters: {'n_layers': 2, 'activation': 'relu', 'optimizer': 'rmsprop', 'learning_rate': 0.07008589940277782, 'n_units_l0': 94, 'n_units_l1': 93}. Best is trial 2 with value: 0.9710999727249146.\n",
            "[I 2024-07-31 19:53:20,354] Trial 4 finished with value: 0.9587000012397766 and parameters: {'n_layers': 2, 'activation': 'relu', 'optimizer': 'adam', 'learning_rate': 0.022591330507106037, 'n_units_l0': 112, 'n_units_l1': 107}. Best is trial 2 with value: 0.9710999727249146.\n",
            "[I 2024-07-31 19:53:37,231] Trial 5 finished with value: 0.9555000066757202 and parameters: {'n_layers': 2, 'activation': 'relu', 'optimizer': 'rmsprop', 'learning_rate': 0.018911774388215122, 'n_units_l0': 72, 'n_units_l1': 121}. Best is trial 2 with value: 0.9710999727249146.\n",
            "[I 2024-07-31 19:54:01,310] Trial 6 finished with value: 0.92330002784729 and parameters: {'n_layers': 3, 'activation': 'relu', 'optimizer': 'adam', 'learning_rate': 1.773604266040951e-05, 'n_units_l0': 122, 'n_units_l1': 46, 'n_units_l2': 81}. Best is trial 2 with value: 0.9710999727249146.\n",
            "[I 2024-07-31 19:54:16,428] Trial 7 finished with value: 0.9767000079154968 and parameters: {'n_layers': 1, 'activation': 'sigmoid', 'optimizer': 'rmsprop', 'learning_rate': 0.005140608449720418, 'n_units_l0': 94}. Best is trial 7 with value: 0.9767000079154968.\n",
            "[I 2024-07-31 19:54:31,824] Trial 8 finished with value: 0.9624999761581421 and parameters: {'n_layers': 2, 'activation': 'relu', 'optimizer': 'rmsprop', 'learning_rate': 0.00019082049285825824, 'n_units_l0': 86, 'n_units_l1': 52}. Best is trial 7 with value: 0.9767000079154968.\n",
            "[I 2024-07-31 19:54:50,014] Trial 9 finished with value: 0.9595000147819519 and parameters: {'n_layers': 3, 'activation': 'tanh', 'optimizer': 'rmsprop', 'learning_rate': 0.010056182310847433, 'n_units_l0': 45, 'n_units_l1': 48, 'n_units_l2': 97}. Best is trial 7 with value: 0.9767000079154968.\n"
          ]
        }
      ]
    },
    {
      "cell_type": "code",
      "source": [
        "print(\"Best trial:\")\n",
        "trial = study.best_trial\n",
        "\n",
        "print(\"Value: {}\".format(trial.value))\n",
        "\n",
        "print(\"Params: \")\n",
        "for key, value in trial.params.items():\n",
        "    print(\"    {}: {}\".format(key, value))"
      ],
      "metadata": {
        "colab": {
          "base_uri": "https://localhost:8080/"
        },
        "id": "vZUJAhD9Veip",
        "outputId": "cd539d7c-8dfa-4da1-d94c-74bab81c386d"
      },
      "execution_count": 9,
      "outputs": [
        {
          "output_type": "stream",
          "name": "stdout",
          "text": [
            "Best trial:\n",
            "Value: 0.9767000079154968\n",
            "Params: \n",
            "    n_layers: 1\n",
            "    activation: sigmoid\n",
            "    optimizer: rmsprop\n",
            "    learning_rate: 0.005140608449720418\n",
            "    n_units_l0: 94\n"
          ]
        }
      ]
    }
  ]
}